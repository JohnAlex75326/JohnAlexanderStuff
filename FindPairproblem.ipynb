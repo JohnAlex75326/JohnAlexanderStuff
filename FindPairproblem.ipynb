{
 "cells": [
  {
   "attachments": {},
   "cell_type": "markdown",
   "metadata": {},
   "source": [
    "Problem:\n",
    "Given a list of numbers and a number k, return whether any two numbers from the list add up to k.\n",
    "\n",
    "For example, given [10, 15, 3, 7] and k of 17, return true since 10 + 7 is 17.\n",
    "\n",
    "Bonus: Can you do this in one pass?\n",
    "\n",
    "\n",
    "Solution:\n",
    "Here, we define a function called find_pair that takes two arguments:\n",
    "\n",
    "nums: a list of numbers\n",
    "k: the target sum\n",
    "The function then creates an empty set called visited to keep track of the numbers that have been visited so far. \n",
    "It then iterates over each number in nums and checks if the difference between k and the current number is in the set. \n",
    "If it is, then we have found a pair of numbers that add up to k and we return True. \n",
    "Otherwise, we add the current number to the set and continue iterating. If we reach the end of the loop without finding a pair, we return False.\n",
    "\n",
    "This approach has a time complexity of O(n) since we only iterate over the list once. \n",
    "It is also space-efficient since we only use a set to store visited numbers, \n",
    "which has a worst-case space complexity of O(n) (if all numbers are distinct).\n"
   ]
  },
  {
   "cell_type": "code",
   "execution_count": 1,
   "metadata": {},
   "outputs": [],
   "source": [
    "def find_pair(nums, k):\n",
    "    # create an empty set to store visited numbers\n",
    "    visited = set()\n",
    "    \n",
    "    # iterate over each number in the list\n",
    "    for num in nums:\n",
    "        # check if the difference between k and current number is in the set\n",
    "        if k - num in visited:\n",
    "            return True\n",
    "        \n",
    "        # add current number to the set\n",
    "        visited.add(num)\n",
    "    \n",
    "    # if no pair is found, return False\n",
    "    return False\n"
   ]
  },
  {
   "cell_type": "code",
   "execution_count": 2,
   "metadata": {},
   "outputs": [
    {
     "name": "stdout",
     "output_type": "stream",
     "text": [
      "True\n"
     ]
    }
   ],
   "source": [
    "## Output to check if the numbers have a 17\n",
    "nums = [10, 15, 3, 7]\n",
    "k = 17\n",
    "\n",
    "result = find_pair(nums, k)\n",
    "\n",
    "print(result)"
   ]
  },
  {
   "cell_type": "code",
   "execution_count": null,
   "metadata": {},
   "outputs": [],
   "source": []
  }
 ],
 "metadata": {
  "kernelspec": {
   "display_name": "Python 3",
   "language": "python",
   "name": "python3"
  },
  "language_info": {
   "codemirror_mode": {
    "name": "ipython",
    "version": 3
   },
   "file_extension": ".py",
   "mimetype": "text/x-python",
   "name": "python",
   "nbconvert_exporter": "python",
   "pygments_lexer": "ipython3",
   "version": "3.10.0"
  },
  "orig_nbformat": 4
 },
 "nbformat": 4,
 "nbformat_minor": 2
}
