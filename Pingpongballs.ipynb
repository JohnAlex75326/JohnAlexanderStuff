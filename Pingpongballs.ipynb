{
 "cells": [
  {
   "attachments": {},
   "cell_type": "markdown",
   "metadata": {},
   "source": [
    "Problem: Suppose you are making an experiment in which you will get 2 number combinations. You are\n",
    "given 12 ping pong balls with two different colors (yellow and white), each colored ball is\n",
    "numbered 1 to 6. Create a flowchart in which you will release 2 numbered balls, 1 of each color,\n",
    "randomly, 6 times maximum. You are also given 3 colored baskets (yellow, red and white). If the\n",
    "number in each ball is the same, should go to red. If the product of two balls released is even, the\n",
    "ball should go to white basket, if odd then to yellow.\n",
    "\n",
    "Solution: \n",
    "Start\n",
    "Initialize counters for the number of times 2 balls have been released, and the number of balls in each basket.\n",
    "Randomly select 1 yellow ball and 1 white ball.\n",
    "Check if the number on both balls is the same.\n",
    "a. If yes, place both balls in the red basket, increment the red ball counter, and go to step 2.\n",
    "b. If no, go to step 5.\n",
    "Calculate the product of the numbers on both balls.\n",
    "Check if the product is even.\n",
    "a. If yes, place both balls in the white basket, increment the white ball counter, and go to step 2.\n",
    "b. If no, place both balls in the yellow basket, increment the yellow ball counter, and go to step 2.\n",
    "Check if the maximum number of releases (6 times) has been reached.\n",
    "a. If yes, end the experiment.\n",
    "b. If no, go to step 3.\n",
    "End."
   ]
  },
  {
   "cell_type": "code",
   "execution_count": 1,
   "metadata": {},
   "outputs": [
    {
     "name": "stdout",
     "output_type": "stream",
     "text": [
      "Yellow Basket: []\n",
      "White Basket: [(6, 3, 'white', 'yellow'), (6, 5, 'white', 'yellow'), (2, 4, 'white', 'yellow'), (3, 4, 'white', 'yellow'), (3, 2, 'yellow', 'white'), (4, 2, 'yellow', 'white')]\n",
      "Red Basket: []\n"
     ]
    }
   ],
   "source": [
    "import random\n",
    "\n",
    "# initialize empty baskets\n",
    "yellow_basket = []\n",
    "white_basket = []\n",
    "red_basket = []\n",
    "\n",
    "# iterate up to 6 times\n",
    "for i in range(6):\n",
    "    # generate two random numbers from 1 to 6\n",
    "    num1 = random.randint(1, 6)\n",
    "    num2 = random.randint(1, 6)\n",
    "    \n",
    "    # generate two random colors\n",
    "    colors = ['yellow', 'white']\n",
    "    random.shuffle(colors)\n",
    "    color1 = colors[0]\n",
    "    color2 = colors[1]\n",
    "    \n",
    "    # check if the numbers are the same\n",
    "    if num1 == num2:\n",
    "        # put the balls in the red basket\n",
    "        red_basket.append((num1, num2, color1, color2))\n",
    "    else:\n",
    "        # calculate the product of the two numbers\n",
    "        product = num1 * num2\n",
    "        \n",
    "        # check if the product is even or odd\n",
    "        if product % 2 == 0:\n",
    "            # put the balls in the white basket\n",
    "            white_basket.append((num1, num2, color1, color2))\n",
    "        else:\n",
    "            # put the balls in the yellow basket\n",
    "            yellow_basket.append((num1, num2, color1, color2))\n",
    "            \n",
    "# print the results\n",
    "print(f\"Yellow Basket: {yellow_basket}\")\n",
    "print(f\"White Basket: {white_basket}\")\n",
    "print(f\"Red Basket: {red_basket}\")\n"
   ]
  }
 ],
 "metadata": {
  "kernelspec": {
   "display_name": "Python 3",
   "language": "python",
   "name": "python3"
  },
  "language_info": {
   "codemirror_mode": {
    "name": "ipython",
    "version": 3
   },
   "file_extension": ".py",
   "mimetype": "text/x-python",
   "name": "python",
   "nbconvert_exporter": "python",
   "pygments_lexer": "ipython3",
   "version": "3.11.2"
  },
  "orig_nbformat": 4,
  "vscode": {
   "interpreter": {
    "hash": "ebfc0a8d552866b0d59eba665220a57de3bc06f3ac643b8bef38dd8f66781fdd"
   }
  }
 },
 "nbformat": 4,
 "nbformat_minor": 2
}
